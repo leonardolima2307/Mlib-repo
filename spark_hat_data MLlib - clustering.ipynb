{
 "cells": [
  {
   "cell_type": "code",
   "execution_count": 2,
   "metadata": {
    "scrolled": true
   },
   "outputs": [
    {
     "name": "stderr",
     "output_type": "stream",
     "text": [
      "UsageError: %%python is a cell magic, but the cell body is empty.\n"
     ]
    }
   ],
   "source": [
    "%%python"
   ]
  },
  {
   "cell_type": "code",
   "execution_count": 3,
   "metadata": {},
   "outputs": [],
   "source": [
    "sc.stop()"
   ]
  },
  {
   "cell_type": "code",
   "execution_count": 4,
   "metadata": {},
   "outputs": [],
   "source": [
    "from pyspark.context import SparkContext\n",
    "from pyspark.sql.session import SparkSession\n",
    "import pyspark.sql.functions as F\n",
    "from pyspark.sql.functions import *\n",
    "import numpy as np\n",
    "import pandas as pd\n",
    "sc = SparkContext.getOrCreate()\n",
    "#\n",
    "spark = SparkSession(sc)"
   ]
  },
  {
   "cell_type": "code",
   "execution_count": 5,
   "metadata": {},
   "outputs": [],
   "source": [
    "from pyspark.context import SparkContext\n",
    "from pyspark.sql.session import SparkSession\n",
    "from pyspark.sql.functions import *\n",
    "#sc = SparkContext.getOrCreate()\n",
    "#spark = SparkSession(sc)"
   ]
  },
  {
   "cell_type": "code",
   "execution_count": 6,
   "metadata": {},
   "outputs": [],
   "source": [
    "loan_data = spark.read.csv(\"loan_data.csv\", header=\"true\", inferSchema=\"true\")"
   ]
  },
  {
   "cell_type": "code",
   "execution_count": 7,
   "metadata": {},
   "outputs": [],
   "source": [
    "#pants = pants.select(\"size\",\"cost\",\"color\").filter(col(\"color\") == \"blue\")"
   ]
  },
  {
   "cell_type": "code",
   "execution_count": 8,
   "metadata": {},
   "outputs": [
    {
     "name": "stdout",
     "output_type": "stream",
     "text": [
      "+--------+---------------+-----------+---+------------+\n",
      "|have_job|marriage_status|year_income|age|allowed_loan|\n",
      "+--------+---------------+-----------+---+------------+\n",
      "|       1|              1|      39629| 45|           0|\n",
      "|       0|              2|      24442| 27|           0|\n",
      "|       0|              1|      59450| 33|           0|\n",
      "|       0|              1|      43030| 27|           0|\n",
      "|       0|              2|      36625| 36|           0|\n",
      "+--------+---------------+-----------+---+------------+\n",
      "only showing top 5 rows\n",
      "\n"
     ]
    }
   ],
   "source": [
    "loan_data.show(5)"
   ]
  },
  {
   "cell_type": "markdown",
   "metadata": {},
   "source": [
    "STARTING ML"
   ]
  },
  {
   "cell_type": "code",
   "execution_count": 9,
   "metadata": {},
   "outputs": [],
   "source": [
    "from pyspark.mllib.clustering import KMeans\n",
    "from numpy import array\n",
    "from math import sqrt"
   ]
  },
  {
   "cell_type": "code",
   "execution_count": 10,
   "metadata": {},
   "outputs": [
    {
     "name": "stdout",
     "output_type": "stream",
     "text": [
      "+--------+---------------+-----------+---+------------+\n",
      "|have_job|marriage_status|year_income|age|allowed_loan|\n",
      "+--------+---------------+-----------+---+------------+\n",
      "|       1|              1|      39629| 45|           0|\n",
      "|       0|              2|      24442| 27|           0|\n",
      "|       0|              1|      59450| 33|           0|\n",
      "|       0|              1|      43030| 27|           0|\n",
      "|       0|              2|      36625| 36|           0|\n",
      "+--------+---------------+-----------+---+------------+\n",
      "only showing top 5 rows\n",
      "\n"
     ]
    }
   ],
   "source": [
    "data = loan_data\n",
    "data.show(5)"
   ]
  },
  {
   "cell_type": "markdown",
   "metadata": {},
   "source": [
    "Clustering"
   ]
  },
  {
   "cell_type": "code",
   "execution_count": 11,
   "metadata": {},
   "outputs": [],
   "source": [
    "from pyspark.mllib.clustering import KMeans\n",
    "from numpy import array\n",
    "from math import sqrt\n",
    "from pyspark.ml.clustering import KMeans\n",
    "from pyspark.ml.evaluation import ClusteringEvaluator\n",
    "from pyspark.ml.feature import VectorAssembler\n"
   ]
  },
  {
   "cell_type": "markdown",
   "metadata": {},
   "source": [
    "Have a job: 1 = true, 0 = False <br>\n",
    "marriage_status: 0 = divorsed, 1 = single, 2 = married <br>\n",
    "year_income: amount in EU <br>\n",
    "age: age of the person <br>"
   ]
  },
  {
   "cell_type": "code",
   "execution_count": 12,
   "metadata": {},
   "outputs": [],
   "source": [
    "vectorAssembler = VectorAssembler(inputCols = ['have_job', 'marriage_status', 'year_income', 'age'], outputCol = 'features')\n",
    "data = vectorAssembler.transform(data)\n",
    "#data = data.select('features')\n"
   ]
  },
  {
   "cell_type": "code",
   "execution_count": 13,
   "metadata": {},
   "outputs": [],
   "source": [
    "kmeans = KMeans(k= 4)\n",
    "model = kmeans.fit(data)"
   ]
  },
  {
   "cell_type": "code",
   "execution_count": 14,
   "metadata": {},
   "outputs": [
    {
     "name": "stdout",
     "output_type": "stream",
     "text": [
      "Silhouette with squared euclidean distance = 0.7309206657160369\n"
     ]
    }
   ],
   "source": [
    "# Make predictions\n",
    "predictions = model.transform(data)\n",
    "\n",
    "# Evaluate clustering by computing Silhouette score\n",
    "evaluator = ClusteringEvaluator()\n",
    "\n",
    "silhouette = evaluator.evaluate(predictions)\n",
    "print(\"Silhouette with squared euclidean distance = \" + str(silhouette))"
   ]
  },
  {
   "cell_type": "code",
   "execution_count": 15,
   "metadata": {},
   "outputs": [
    {
     "name": "stdout",
     "output_type": "stream",
     "text": [
      "+--------+---------------+-----------+---+------------+--------------------+----------+\n",
      "|have_job|marriage_status|year_income|age|allowed_loan|            features|prediction|\n",
      "+--------+---------------+-----------+---+------------+--------------------+----------+\n",
      "|       1|              1|      39629| 45|           0|[1.0,1.0,39629.0,...|         2|\n",
      "|       0|              2|      24442| 27|           0|[0.0,2.0,24442.0,...|         0|\n",
      "|       0|              1|      59450| 33|           0|[0.0,1.0,59450.0,...|         2|\n",
      "+--------+---------------+-----------+---+------------+--------------------+----------+\n",
      "only showing top 3 rows\n",
      "\n"
     ]
    }
   ],
   "source": [
    "predictions.show(3)"
   ]
  },
  {
   "cell_type": "code",
   "execution_count": 16,
   "metadata": {},
   "outputs": [
    {
     "name": "stdout",
     "output_type": "stream",
     "text": [
      "+--------+---------------+-----------+---+------------+----------+\n",
      "|have_job|marriage_status|year_income|age|allowed_loan|prediction|\n",
      "+--------+---------------+-----------+---+------------+----------+\n",
      "|       1|              1|      39629| 45|           0|         2|\n",
      "|       0|              2|      24442| 27|           0|         0|\n",
      "|       0|              1|      59450| 33|           0|         2|\n",
      "|       0|              1|      43030| 27|           0|         2|\n",
      "|       0|              2|      36625| 36|           0|         0|\n",
      "|       1|              2|      51875| 55|           0|         2|\n",
      "|       0|              1|      36783| 53|           0|         0|\n",
      "|       1|              0|      54073| 35|           0|         2|\n",
      "|       1|              0|      45205| 45|           0|         2|\n",
      "|       0|              2|      50261| 48|           0|         2|\n",
      "|       1|              2|      54325| 35|           0|         2|\n",
      "|       1|              0|      34652| 44|           0|         0|\n",
      "|       1|              2|      32191| 51|           0|         0|\n",
      "|       0|              2|      39508| 37|           0|         2|\n",
      "|       1|              1|      54712| 26|           0|         2|\n",
      "|       1|              2|      23609| 42|           0|         0|\n",
      "|       0|              0|      41257| 54|           0|         2|\n",
      "|       1|              0|      39957| 60|           0|         2|\n",
      "|       1|              1|      47763| 37|           0|         2|\n",
      "|       1|              1|      46749| 24|           0|         2|\n",
      "+--------+---------------+-----------+---+------------+----------+\n",
      "only showing top 20 rows\n",
      "\n"
     ]
    }
   ],
   "source": [
    "predictions.select('have_job','marriage_status','year_income','age','allowed_loan','prediction')\\\n",
    ".show(20)"
   ]
  },
  {
   "cell_type": "code",
   "execution_count": null,
   "metadata": {},
   "outputs": [],
   "source": []
  }
 ],
 "metadata": {
  "kernelspec": {
   "display_name": "Python 3",
   "language": "python",
   "name": "python3"
  }
 },
 "nbformat": 4,
 "nbformat_minor": 2
}
